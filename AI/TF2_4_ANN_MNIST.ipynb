{
  "nbformat": 4,
  "nbformat_minor": 0,
  "metadata": {
    "colab": {
      "name": "TF2.4 ANN MNIST.ipynb",
      "provenance": [],
      "collapsed_sections": []
    },
    "kernelspec": {
      "name": "python3",
      "display_name": "Python 3"
    }
  },
  "cells": [
    {
      "cell_type": "code",
      "metadata": {
        "colab": {
          "base_uri": "https://localhost:8080/"
        },
        "id": "owDsp4HRSkhz",
        "outputId": "c864438b-86e0-4485-d64e-21987153799b"
      },
      "source": [
        "#import tensorflow\r\n",
        "\r\n",
        "import tensorflow as tf\r\n",
        "print(tf.__version__)"
      ],
      "execution_count": 1,
      "outputs": [
        {
          "output_type": "stream",
          "text": [
            "2.4.0\n"
          ],
          "name": "stdout"
        }
      ]
    },
    {
      "cell_type": "code",
      "metadata": {
        "colab": {
          "base_uri": "https://localhost:8080/"
        },
        "id": "gwkwVvB4SyjV",
        "outputId": "9c4734e2-4a4a-499d-dc3c-8f34f7091fb5"
      },
      "source": [
        "# Load in the data\r\n",
        "mnist = tf.keras.datasets.mnist\r\n",
        "\r\n",
        "(x_train,y_train),(x_test,y_test) = mnist.load_data()\r\n",
        "x_train,x_test = x_train / 255.0, x_test / 255.0\r\n",
        "print(\"x_train.shape\",x_train.shape)"
      ],
      "execution_count": 2,
      "outputs": [
        {
          "output_type": "stream",
          "text": [
            "Downloading data from https://storage.googleapis.com/tensorflow/tf-keras-datasets/mnist.npz\n",
            "11493376/11490434 [==============================] - 0s 0us/step\n",
            "x_train.shape (60000, 28, 28)\n"
          ],
          "name": "stdout"
        }
      ]
    },
    {
      "cell_type": "code",
      "metadata": {
        "id": "yNr3c46tTPo9"
      },
      "source": [
        "# Build the model\r\n",
        "model = tf.keras.models.Sequential([\r\n",
        "   tf.keras.layers.Flatten(input_shape = (28,28)),\r\n",
        "   tf.keras.layers.Dense(128, activation='relu'),\r\n",
        "   tf.keras.layers.Dropout(0.2),\r\n",
        "   tf.keras.layers.Dense(10, activation='softmax')\r\n",
        "]);"
      ],
      "execution_count": 9,
      "outputs": []
    },
    {
      "cell_type": "code",
      "metadata": {
        "id": "V1GjIp4pT10s"
      },
      "source": [
        "# Compile the model\r\n",
        "model.compile(optimizer='adam',\r\n",
        "              loss='sparse_categorical_crossentropy',\r\n",
        "              metrics=['accuracy'])"
      ],
      "execution_count": 10,
      "outputs": []
    },
    {
      "cell_type": "code",
      "metadata": {
        "colab": {
          "base_uri": "https://localhost:8080/"
        },
        "id": "E2HaTjxzUGy0",
        "outputId": "678c8e7e-8f8f-476b-e6b5-292fd7595659"
      },
      "source": [
        "# Train the model\r\n",
        "\r\n",
        "r= model.fit(x_train,y_train,validation_data=(x_test,y_test),epochs=10)\r\n"
      ],
      "execution_count": 11,
      "outputs": [
        {
          "output_type": "stream",
          "text": [
            "Epoch 1/10\n",
            "1875/1875 [==============================] - 4s 2ms/step - loss: 0.4820 - accuracy: 0.8581 - val_loss: 0.1405 - val_accuracy: 0.9590\n",
            "Epoch 2/10\n",
            "1875/1875 [==============================] - 3s 2ms/step - loss: 0.1522 - accuracy: 0.9560 - val_loss: 0.0991 - val_accuracy: 0.9682\n",
            "Epoch 3/10\n",
            "1875/1875 [==============================] - 3s 2ms/step - loss: 0.1068 - accuracy: 0.9672 - val_loss: 0.0792 - val_accuracy: 0.9769\n",
            "Epoch 4/10\n",
            "1875/1875 [==============================] - 3s 2ms/step - loss: 0.0839 - accuracy: 0.9732 - val_loss: 0.0712 - val_accuracy: 0.9777\n",
            "Epoch 5/10\n",
            "1875/1875 [==============================] - 4s 2ms/step - loss: 0.0719 - accuracy: 0.9781 - val_loss: 0.0723 - val_accuracy: 0.9761\n",
            "Epoch 6/10\n",
            "1875/1875 [==============================] - 4s 2ms/step - loss: 0.0601 - accuracy: 0.9802 - val_loss: 0.0689 - val_accuracy: 0.9797\n",
            "Epoch 7/10\n",
            "1875/1875 [==============================] - 4s 2ms/step - loss: 0.0517 - accuracy: 0.9829 - val_loss: 0.0661 - val_accuracy: 0.9790\n",
            "Epoch 8/10\n",
            "1875/1875 [==============================] - 3s 2ms/step - loss: 0.0496 - accuracy: 0.9838 - val_loss: 0.0641 - val_accuracy: 0.9817\n",
            "Epoch 9/10\n",
            "1875/1875 [==============================] - 3s 2ms/step - loss: 0.0443 - accuracy: 0.9857 - val_loss: 0.0651 - val_accuracy: 0.9811\n",
            "Epoch 10/10\n",
            "1875/1875 [==============================] - 3s 2ms/step - loss: 0.0390 - accuracy: 0.9872 - val_loss: 0.0675 - val_accuracy: 0.9807\n"
          ],
          "name": "stdout"
        }
      ]
    },
    {
      "cell_type": "code",
      "metadata": {
        "colab": {
          "base_uri": "https://localhost:8080/",
          "height": 282
        },
        "id": "AEj4wZb6Uq8H",
        "outputId": "d5d1c0a0-8011-4fb1-bdcf-a54766061f8b"
      },
      "source": [
        "#Plot loss per iteration\r\n",
        "import matplotlib.pyplot as plt\r\n",
        "plt.plot(r.history['loss'], label ='loss')\r\n",
        "plt.plot(r.history['val_loss'], label = 'val_loss')\r\n",
        "plt.legend()"
      ],
      "execution_count": 12,
      "outputs": [
        {
          "output_type": "execute_result",
          "data": {
            "text/plain": [
              "<matplotlib.legend.Legend at 0x7f69ab9be240>"
            ]
          },
          "metadata": {
            "tags": []
          },
          "execution_count": 12
        },
        {
          "output_type": "display_data",
          "data": {
            "image/png": "[encoded data removed]",
            "text/plain": [
              "<Figure size 432x288 with 1 Axes>"
            ]
          },
          "metadata": {
            "tags": [],
            "needs_background": "light"
          }
        }
      ]
    },
    {
      "cell_type": "code",
      "metadata": {
        "colab": {
          "base_uri": "https://localhost:8080/",
          "height": 282
        },
        "id": "kRoHTCeFVEWM",
        "outputId": "7eb0a080-419c-46b2-b889-8353fc6896fc"
      },
      "source": [
        "#Plot accuracy per iteration\r\n",
        "\r\n",
        "plt.plot(r.history['accuracy'], label='acc')\r\n",
        "plt.plot(r.history['val_accuracy'], label='val_acc')\r\n",
        "plt.legend()\r\n"
      ],
      "execution_count": 13,
      "outputs": [
        {
          "output_type": "execute_result",
          "data": {
            "text/plain": [
              "<matplotlib.legend.Legend at 0x7f69b32b84a8>"
            ]
          },
          "metadata": {
            "tags": []
          },
          "execution_count": 13
        },
        {
          "output_type": "display_data",
          "data": {
            "image/png": "[encoded data removed]",
            "text/plain": [
              "<Figure size 432x288 with 1 Axes>"
            ]
          },
          "metadata": {
            "tags": [],
            "needs_background": "light"
          }
        }
      ]
    },
    {
      "cell_type": "code",
      "metadata": {
        "colab": {
          "base_uri": "https://localhost:8080/"
        },
        "id": "kQc6Two_VfU0",
        "outputId": "1d4ab213-0a3b-4780-de4b-c248cb1a7e88"
      },
      "source": [
        "# Evaluate the model\r\n",
        "print(model.evaluate(x_test,y_test))"
      ],
      "execution_count": 14,
      "outputs": [
        {
          "output_type": "stream",
          "text": [
            "313/313 [==============================] - 0s 1ms/step - loss: 0.0675 - accuracy: 0.9807\n",
            "[0.06748316437005997, 0.9807000160217285]\n"
          ],
          "name": "stdout"
        }
      ]
    },
    {
      "cell_type": "code",
      "metadata": {
        "colab": {
          "base_uri": "https://localhost:8080/",
          "height": 481
        },
        "id": "O65fI8SCVojk",
        "outputId": "a179dda1-678c-4ebc-b40c-6ea96ca31bba"
      },
      "source": [
        "# Plot confusion matrix\r\n",
        "\r\n",
        "from sklearn.metrics import confusion_matrix\r\n",
        "import numpy as np\r\n",
        "import itertools \r\n",
        "\r\n",
        "def plot_confusion_matrix(cm, classes, normalize=False,title='Confusion matrix',cmap=plt.cm.Blues):\r\n",
        "      if (normalize):\r\n",
        "         cm = cm.astype('float') / cm.sum(axis=1)[:, np.newaxis]\r\n",
        "         print('Confusion metrix, without normalization')\r\n",
        "      else:\r\n",
        "         print(cm)\r\n",
        "\r\n",
        "      plt.imshow(cm,interpolation='nearest',cmap=cmap)\r\n",
        "      plt.title(title)\r\n",
        "      plt.colorbar()\r\n",
        "      tick_marks = np.arange(len(classes))\r\n",
        "      plt.xticks(tick_marks,classes,rotation=45)\r\n",
        "      plt.yticks(tick_marks,classes)\r\n",
        "\r\n",
        "      fmt = '.2f' if normalize else 'd'\r\n",
        "      thresh = cm.max() / 2\r\n",
        "      for i, j in itertools.product(range(cm.shape[0]), range(cm.shape[1])):\r\n",
        "        plt.text(j,i,format(cm[i,j],fmt),horizontalalignment='center',color='white' if cm[i,j] > thresh else \"black\")\r\n",
        "      \r\n",
        "      plt.tight_layout()\r\n",
        "      plt.ylabel('True label')\r\n",
        "      plt.xlabel('Predicted label')\r\n",
        "      plt.show()\r\n",
        "\r\n",
        "\r\n",
        "p_test = model.predict(x_test).argmax(axis=1)\r\n",
        "cm = confusion_matrix(y_test,p_test)\r\n",
        "plot_confusion_matrix(cm,list(range(10)))\r\n",
        "   "
      ],
      "execution_count": 17,
      "outputs": [
        {
          "output_type": "stream",
          "text": [
            "[[ 969    0    2    0    2    0    4    2    1    0]\n",
            " [   0 1125    3    2    0    0    2    0    3    0]\n",
            " [   2    0 1012    0    4    0    1    8    4    1]\n",
            " [   0    0    8  983    1    7    0    7    2    2]\n",
            " [   1    0    3    0  964    0    4    2    0    8]\n",
            " [   2    0    1    2    1  881    1    0    3    1]\n",
            " [   5    2    0    1    2    5  943    0    0    0]\n",
            " [   2    2    7    2    0    0    0 1011    1    3]\n",
            " [   7    0    3    3    5    4    2    6  941    3]\n",
            " [   2    2    0    7    8    1    1    8    2  978]]\n"
          ],
          "name": "stdout"
        },
        {
          "output_type": "display_data",
          "data": {
            "image/png": "[encoded data removed]",
            "text/plain": [
              "<Figure size 432x288 with 2 Axes>"
            ]
          },
          "metadata": {
            "tags": [],
            "needs_background": "light"
          }
        }
      ]
    },
    {
      "cell_type": "code",
      "metadata": {
        "colab": {
          "base_uri": "https://localhost:8080/",
          "height": 298
        },
        "id": "4YwagM0BYRh8",
        "outputId": "41057739-a87a-4195-e41d-66d90dd36034"
      },
      "source": [
        "#show some misclassified examples\r\n",
        "\r\n",
        "misclassified_idx = np.where(p_test != y_test)[0]\r\n",
        "i = np.random.choice(misclassified_idx)\r\n",
        "plt.imshow(x_test[i],cmap='gray')\r\n",
        "plt.title('True label %s Predicated %s' % (y_test[i],p_test[i]))"
      ],
      "execution_count": 27,
      "outputs": [
        {
          "output_type": "execute_result",
          "data": {
            "text/plain": [
              "Text(0.5, 1.0, 'True label 2 Predicated 7')"
            ]
          },
          "metadata": {
            "tags": []
          },
          "execution_count": 27
        },
        {
          "output_type": "display_data",
          "data": {
            "image/png": "[encoded data removed]",
            "text/plain": [
              "<Figure size 432x288 with 1 Axes>"
            ]
          },
          "metadata": {
            "tags": [],
            "needs_background": "light"
          }
        }
      ]
    }
  ]
}