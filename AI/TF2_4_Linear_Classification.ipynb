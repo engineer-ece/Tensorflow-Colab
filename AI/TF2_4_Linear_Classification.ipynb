{
  "nbformat": 4,
  "nbformat_minor": 0,
  "metadata": {
    "colab": {
      "name": "TF2.4 Linear Classification.ipynb",
      "provenance": [],
      "collapsed_sections": []
    },
    "kernelspec": {
      "name": "python3",
      "display_name": "Python 3"
    }
  },
  "cells": [
    {
      "cell_type": "markdown",
      "metadata": {
        "id": "RKx4KfOJ7gHu"
      },
      "source": [
        "### Gobal Krishnan V [Click me !!!](https://engineer-ece.github.io/Home)\r\n",
        "created date = 03-01-2021\r\n"
      ]
    },
    {
      "cell_type": "markdown",
      "metadata": {
        "id": "YlCe9MtlDijc"
      },
      "source": [
        "\r\n",
        "# Linear Classification"
      ]
    },
    {
      "cell_type": "code",
      "metadata": {
        "id": "KQnz9eE27sed"
      },
      "source": [
        "# Load in the data\r\n",
        "from sklearn.datasets import load_breast_cancer"
      ],
      "execution_count": 1,
      "outputs": []
    },
    {
      "cell_type": "code",
      "metadata": {
        "id": "WC5HQSem75Lt"
      },
      "source": [
        "# load the data\r\n",
        "data = load_breast_cancer()"
      ],
      "execution_count": 2,
      "outputs": []
    },
    {
      "cell_type": "code",
      "metadata": {
        "colab": {
          "base_uri": "https://localhost:8080/"
        },
        "id": "6WyjXYhP8Agt",
        "outputId": "a21a25e5-518a-472a-bdbd-6b3e8714a2da"
      },
      "source": [
        "# Check the type of  'data'\r\n",
        "type(data)"
      ],
      "execution_count": 3,
      "outputs": [
        {
          "output_type": "execute_result",
          "data": {
            "text/plain": [
              "sklearn.utils.Bunch"
            ]
          },
          "metadata": {
            "tags": []
          },
          "execution_count": 3
        }
      ]
    },
    {
      "cell_type": "code",
      "metadata": {
        "colab": {
          "base_uri": "https://localhost:8080/"
        },
        "id": "M-mHk4ZU8IJs",
        "outputId": "5e5171f7-9bbb-48bb-bb36-680e4fc1182f"
      },
      "source": [
        "#it is a Bunch object\r\n",
        "data.keys()"
      ],
      "execution_count": 4,
      "outputs": [
        {
          "output_type": "execute_result",
          "data": {
            "text/plain": [
              "dict_keys(['data', 'target', 'target_names', 'DESCR', 'feature_names', 'filename'])"
            ]
          },
          "metadata": {
            "tags": []
          },
          "execution_count": 4
        }
      ]
    },
    {
      "cell_type": "code",
      "metadata": {
        "colab": {
          "base_uri": "https://localhost:8080/"
        },
        "id": "aMmi421p8PcU",
        "outputId": "7bfd30b8-29f4-4b79-ba78-809c07f2e22f"
      },
      "source": [
        "#data (the attribute) means the input data\r\n",
        "data.data.shape"
      ],
      "execution_count": 5,
      "outputs": [
        {
          "output_type": "execute_result",
          "data": {
            "text/plain": [
              "(569, 30)"
            ]
          },
          "metadata": {
            "tags": []
          },
          "execution_count": 5
        }
      ]
    },
    {
      "cell_type": "code",
      "metadata": {
        "colab": {
          "base_uri": "https://localhost:8080/"
        },
        "id": "pXsts8tP8Zz1",
        "outputId": "de198537-e2ce-4c4f-f08e-ef4a748f6aae"
      },
      "source": [
        "#target\r\n",
        "data.target"
      ],
      "execution_count": 6,
      "outputs": [
        {
          "output_type": "execute_result",
          "data": {
            "text/plain": [
              "array([0, 0, 0, 0, 0, 0, 0, 0, 0, 0, 0, 0, 0, 0, 0, 0, 0, 0, 0, 1, 1, 1,\n",
              "       0, 0, 0, 0, 0, 0, 0, 0, 0, 0, 0, 0, 0, 0, 0, 1, 0, 0, 0, 0, 0, 0,\n",
              "       0, 0, 1, 0, 1, 1, 1, 1, 1, 0, 0, 1, 0, 0, 1, 1, 1, 1, 0, 1, 0, 0,\n",
              "       1, 1, 1, 1, 0, 1, 0, 0, 1, 0, 1, 0, 0, 1, 1, 1, 0, 0, 1, 0, 0, 0,\n",
              "       1, 1, 1, 0, 1, 1, 0, 0, 1, 1, 1, 0, 0, 1, 1, 1, 1, 0, 1, 1, 0, 1,\n",
              "       1, 1, 1, 1, 1, 1, 1, 0, 0, 0, 1, 0, 0, 1, 1, 1, 0, 0, 1, 0, 1, 0,\n",
              "       0, 1, 0, 0, 1, 1, 0, 1, 1, 0, 1, 1, 1, 1, 0, 1, 1, 1, 1, 1, 1, 1,\n",
              "       1, 1, 0, 1, 1, 1, 1, 0, 0, 1, 0, 1, 1, 0, 0, 1, 1, 0, 0, 1, 1, 1,\n",
              "       1, 0, 1, 1, 0, 0, 0, 1, 0, 1, 0, 1, 1, 1, 0, 1, 1, 0, 0, 1, 0, 0,\n",
              "       0, 0, 1, 0, 0, 0, 1, 0, 1, 0, 1, 1, 0, 1, 0, 0, 0, 0, 1, 1, 0, 0,\n",
              "       1, 1, 1, 0, 1, 1, 1, 1, 1, 0, 0, 1, 1, 0, 1, 1, 0, 0, 1, 0, 1, 1,\n",
              "       1, 1, 0, 1, 1, 1, 1, 1, 0, 1, 0, 0, 0, 0, 0, 0, 0, 0, 0, 0, 0, 0,\n",
              "       0, 0, 1, 1, 1, 1, 1, 1, 0, 1, 0, 1, 1, 0, 1, 1, 0, 1, 0, 0, 1, 1,\n",
              "       1, 1, 1, 1, 1, 1, 1, 1, 1, 1, 1, 0, 1, 1, 0, 1, 0, 1, 1, 1, 1, 1,\n",
              "       1, 1, 1, 1, 1, 1, 1, 1, 1, 0, 1, 1, 1, 0, 1, 0, 1, 1, 1, 1, 0, 0,\n",
              "       0, 1, 1, 1, 1, 0, 1, 0, 1, 0, 1, 1, 1, 0, 1, 1, 1, 1, 1, 1, 1, 0,\n",
              "       0, 0, 1, 1, 1, 1, 1, 1, 1, 1, 1, 1, 1, 0, 0, 1, 0, 0, 0, 1, 0, 0,\n",
              "       1, 1, 1, 1, 1, 0, 1, 1, 1, 1, 1, 0, 1, 1, 1, 0, 1, 1, 0, 0, 1, 1,\n",
              "       1, 1, 1, 1, 0, 1, 1, 1, 1, 1, 1, 1, 0, 1, 1, 1, 1, 1, 0, 1, 1, 0,\n",
              "       1, 1, 1, 1, 1, 1, 1, 1, 1, 1, 1, 1, 0, 1, 0, 0, 1, 0, 1, 1, 1, 1,\n",
              "       1, 0, 1, 1, 0, 1, 0, 1, 1, 0, 1, 0, 1, 1, 1, 1, 1, 1, 1, 1, 0, 0,\n",
              "       1, 1, 1, 1, 1, 1, 0, 1, 1, 1, 1, 1, 1, 1, 1, 1, 1, 0, 1, 1, 1, 1,\n",
              "       1, 1, 1, 0, 1, 0, 1, 1, 0, 1, 1, 1, 1, 1, 0, 0, 1, 0, 1, 0, 1, 1,\n",
              "       1, 1, 1, 0, 1, 1, 0, 1, 0, 1, 0, 0, 1, 1, 1, 0, 1, 1, 1, 1, 1, 1,\n",
              "       1, 1, 1, 1, 1, 0, 1, 0, 0, 1, 1, 1, 1, 1, 1, 1, 1, 1, 1, 1, 1, 1,\n",
              "       1, 1, 1, 1, 1, 1, 1, 1, 1, 1, 1, 1, 0, 0, 0, 0, 0, 0, 1])"
            ]
          },
          "metadata": {
            "tags": []
          },
          "execution_count": 6
        }
      ]
    },
    {
      "cell_type": "code",
      "metadata": {
        "colab": {
          "base_uri": "https://localhost:8080/"
        },
        "id": "SVKWBPg08nfd",
        "outputId": "3ee56c56-68b6-4ee2-8798-8c0b379c6518"
      },
      "source": [
        "# their meaning is not lost\r\n",
        "data.target_names \r\n"
      ],
      "execution_count": 7,
      "outputs": [
        {
          "output_type": "execute_result",
          "data": {
            "text/plain": [
              "array(['malignant', 'benign'], dtype='<U9')"
            ]
          },
          "metadata": {
            "tags": []
          },
          "execution_count": 7
        }
      ]
    },
    {
      "cell_type": "code",
      "metadata": {
        "colab": {
          "base_uri": "https://localhost:8080/"
        },
        "id": "OHUm8c6W8vf1",
        "outputId": "99ef614a-801a-4385-e6cf-32c57495121f"
      },
      "source": [
        "# there are also 569 corresponding targets\r\n",
        "data.target.shape"
      ],
      "execution_count": 8,
      "outputs": [
        {
          "output_type": "execute_result",
          "data": {
            "text/plain": [
              "(569,)"
            ]
          },
          "metadata": {
            "tags": []
          },
          "execution_count": 8
        }
      ]
    },
    {
      "cell_type": "code",
      "metadata": {
        "colab": {
          "base_uri": "https://localhost:8080/"
        },
        "id": "qk04uoET845s",
        "outputId": "17dfa468-5011-4d46-fb50-0008e63174c4"
      },
      "source": [
        "# you can also determine the meaning of each features\r\n",
        "data.feature_names"
      ],
      "execution_count": 9,
      "outputs": [
        {
          "output_type": "execute_result",
          "data": {
            "text/plain": [
              "array(['mean radius', 'mean texture', 'mean perimeter', 'mean area',\n",
              "       'mean smoothness', 'mean compactness', 'mean concavity',\n",
              "       'mean concave points', 'mean symmetry', 'mean fractal dimension',\n",
              "       'radius error', 'texture error', 'perimeter error', 'area error',\n",
              "       'smoothness error', 'compactness error', 'concavity error',\n",
              "       'concave points error', 'symmetry error',\n",
              "       'fractal dimension error', 'worst radius', 'worst texture',\n",
              "       'worst perimeter', 'worst area', 'worst smoothness',\n",
              "       'worst compactness', 'worst concavity', 'worst concave points',\n",
              "       'worst symmetry', 'worst fractal dimension'], dtype='<U23')"
            ]
          },
          "metadata": {
            "tags": []
          },
          "execution_count": 9
        }
      ]
    },
    {
      "cell_type": "code",
      "metadata": {
        "id": "1-IzWdY09LQ9"
      },
      "source": [
        "from sklearn.model_selection import train_test_split \r\n",
        "\r\n",
        "#split the data into train and test set\r\n",
        "X_train,X_test,Y_train,Y_test = train_test_split(data.data,data.target,test_size=0.33)\r\n",
        "N, D = X_train.shape"
      ],
      "execution_count": 10,
      "outputs": []
    },
    {
      "cell_type": "code",
      "metadata": {
        "id": "uj6u683b9s7d"
      },
      "source": [
        "#Scale the data\r\n",
        "from sklearn.preprocessing import StandardScaler\r\n",
        "scaler = StandardScaler()\r\n",
        "X_train = scaler.fit_transform(X_train)\r\n",
        "X_test  = scaler.transform(X_test)\r\n"
      ],
      "execution_count": null,
      "outputs": []
    },
    {
      "cell_type": "code",
      "metadata": {
        "colab": {
          "base_uri": "https://localhost:8080/"
        },
        "id": "m2Y4Razv-Tdt",
        "outputId": "22ebca98-e938-4bc4-aaf1-6e22fcb3f5b6"
      },
      "source": [
        "#Now all the fun Tensorflow stuff\r\n",
        "#Build the model\r\n",
        "import tensorflow as tf\r\n",
        "model = tf.keras.models.Sequential([\r\n",
        "  tf.keras.layers.Input(shape=(D,)),\r\n",
        "  tf.keras.layers.Dense(1, activation='sigmoid')                                    \r\n",
        "])\r\n",
        "\r\n",
        "model.compile(optimizer = 'adam',\r\n",
        "              loss = 'binary_crossentropy',\r\n",
        "              metrics = ['accuracy'])\r\n",
        "\r\n",
        "# Train the model\r\n",
        "r = model.fit(X_train,Y_train,validation_data= (X_test,Y_test),epochs = 100)\r\n",
        "\r\n",
        "# Evaluate the model - evaluate() returns loss and accuracy\r\n",
        "print(\"Train score :\", model.evaluate(X_train,Y_train))\r\n",
        "print(\"Test score :\", model.evaluate(X_test,Y_test))\r\n"
      ],
      "execution_count": 72,
      "outputs": [
        {
          "output_type": "stream",
          "text": [
            "Epoch 1/100\n",
            "12/12 [==============================] - 1s 16ms/step - loss: 3.0181 - accuracy: 0.4404 - val_loss: 2.1026 - val_accuracy: 0.5426\n",
            "Epoch 2/100\n",
            "12/12 [==============================] - 0s 4ms/step - loss: 2.1198 - accuracy: 0.5614 - val_loss: 1.9123 - val_accuracy: 0.5319\n",
            "Epoch 3/100\n",
            "12/12 [==============================] - 0s 4ms/step - loss: 2.0583 - accuracy: 0.5677 - val_loss: 1.5038 - val_accuracy: 0.5957\n",
            "Epoch 4/100\n",
            "12/12 [==============================] - 0s 4ms/step - loss: 1.6341 - accuracy: 0.6450 - val_loss: 1.3459 - val_accuracy: 0.6223\n",
            "Epoch 5/100\n",
            "12/12 [==============================] - 0s 4ms/step - loss: 1.5250 - accuracy: 0.6552 - val_loss: 1.1524 - val_accuracy: 0.6755\n",
            "Epoch 6/100\n",
            "12/12 [==============================] - 0s 4ms/step - loss: 1.0731 - accuracy: 0.7132 - val_loss: 1.0239 - val_accuracy: 0.7128\n",
            "Epoch 7/100\n",
            "12/12 [==============================] - 0s 4ms/step - loss: 1.1465 - accuracy: 0.7556 - val_loss: 0.9480 - val_accuracy: 0.7234\n",
            "Epoch 8/100\n",
            "12/12 [==============================] - 0s 4ms/step - loss: 0.9445 - accuracy: 0.7456 - val_loss: 0.8640 - val_accuracy: 0.7447\n",
            "Epoch 9/100\n",
            "12/12 [==============================] - 0s 4ms/step - loss: 0.8945 - accuracy: 0.7640 - val_loss: 0.8044 - val_accuracy: 0.7447\n",
            "Epoch 10/100\n",
            "12/12 [==============================] - 0s 4ms/step - loss: 0.8220 - accuracy: 0.7934 - val_loss: 0.7647 - val_accuracy: 0.7500\n",
            "Epoch 11/100\n",
            "12/12 [==============================] - 0s 4ms/step - loss: 0.7370 - accuracy: 0.8032 - val_loss: 0.7146 - val_accuracy: 0.7553\n",
            "Epoch 12/100\n",
            "12/12 [==============================] - 0s 4ms/step - loss: 0.7351 - accuracy: 0.8076 - val_loss: 0.6909 - val_accuracy: 0.7660\n",
            "Epoch 13/100\n",
            "12/12 [==============================] - 0s 4ms/step - loss: 0.6370 - accuracy: 0.8185 - val_loss: 0.6451 - val_accuracy: 0.7819\n",
            "Epoch 14/100\n",
            "12/12 [==============================] - 0s 4ms/step - loss: 0.6177 - accuracy: 0.8469 - val_loss: 0.6339 - val_accuracy: 0.7766\n",
            "Epoch 15/100\n",
            "12/12 [==============================] - 0s 4ms/step - loss: 0.6128 - accuracy: 0.8230 - val_loss: 0.5968 - val_accuracy: 0.7872\n",
            "Epoch 16/100\n",
            "12/12 [==============================] - 0s 4ms/step - loss: 0.5430 - accuracy: 0.8154 - val_loss: 0.5690 - val_accuracy: 0.8032\n",
            "Epoch 17/100\n",
            "12/12 [==============================] - 0s 4ms/step - loss: 0.6043 - accuracy: 0.8469 - val_loss: 0.5543 - val_accuracy: 0.8138\n",
            "Epoch 18/100\n",
            "12/12 [==============================] - 0s 5ms/step - loss: 0.5668 - accuracy: 0.8255 - val_loss: 0.5271 - val_accuracy: 0.8191\n",
            "Epoch 19/100\n",
            "12/12 [==============================] - 0s 5ms/step - loss: 0.5200 - accuracy: 0.8524 - val_loss: 0.5066 - val_accuracy: 0.8298\n",
            "Epoch 20/100\n",
            "12/12 [==============================] - 0s 5ms/step - loss: 0.5062 - accuracy: 0.8405 - val_loss: 0.5155 - val_accuracy: 0.8245\n",
            "Epoch 21/100\n",
            "12/12 [==============================] - 0s 5ms/step - loss: 0.5717 - accuracy: 0.8469 - val_loss: 0.4762 - val_accuracy: 0.8404\n",
            "Epoch 22/100\n",
            "12/12 [==============================] - 0s 4ms/step - loss: 0.4744 - accuracy: 0.8437 - val_loss: 0.4734 - val_accuracy: 0.8351\n",
            "Epoch 23/100\n",
            "12/12 [==============================] - 0s 4ms/step - loss: 0.4175 - accuracy: 0.8692 - val_loss: 0.4569 - val_accuracy: 0.8351\n",
            "Epoch 24/100\n",
            "12/12 [==============================] - 0s 4ms/step - loss: 0.4854 - accuracy: 0.8544 - val_loss: 0.4428 - val_accuracy: 0.8404\n",
            "Epoch 25/100\n",
            "12/12 [==============================] - 0s 4ms/step - loss: 0.4293 - accuracy: 0.8589 - val_loss: 0.4383 - val_accuracy: 0.8404\n",
            "Epoch 26/100\n",
            "12/12 [==============================] - 0s 4ms/step - loss: 0.3871 - accuracy: 0.8675 - val_loss: 0.4191 - val_accuracy: 0.8564\n",
            "Epoch 27/100\n",
            "12/12 [==============================] - 0s 4ms/step - loss: 0.3977 - accuracy: 0.8867 - val_loss: 0.4062 - val_accuracy: 0.8617\n",
            "Epoch 28/100\n",
            "12/12 [==============================] - 0s 4ms/step - loss: 0.4942 - accuracy: 0.8496 - val_loss: 0.4288 - val_accuracy: 0.8351\n",
            "Epoch 29/100\n",
            "12/12 [==============================] - 0s 5ms/step - loss: 0.3471 - accuracy: 0.8736 - val_loss: 0.3865 - val_accuracy: 0.8830\n",
            "Epoch 30/100\n",
            "12/12 [==============================] - 0s 5ms/step - loss: 0.4486 - accuracy: 0.8712 - val_loss: 0.3879 - val_accuracy: 0.8617\n",
            "Epoch 31/100\n",
            "12/12 [==============================] - 0s 4ms/step - loss: 0.4182 - accuracy: 0.8625 - val_loss: 0.3840 - val_accuracy: 0.8617\n",
            "Epoch 32/100\n",
            "12/12 [==============================] - 0s 4ms/step - loss: 0.2972 - accuracy: 0.8805 - val_loss: 0.3617 - val_accuracy: 0.8989\n",
            "Epoch 33/100\n",
            "12/12 [==============================] - 0s 4ms/step - loss: 0.4820 - accuracy: 0.8617 - val_loss: 0.3561 - val_accuracy: 0.8830\n",
            "Epoch 34/100\n",
            "12/12 [==============================] - 0s 4ms/step - loss: 0.4453 - accuracy: 0.8676 - val_loss: 0.3478 - val_accuracy: 0.8830\n",
            "Epoch 35/100\n",
            "12/12 [==============================] - 0s 4ms/step - loss: 0.3538 - accuracy: 0.8940 - val_loss: 0.3469 - val_accuracy: 0.8777\n",
            "Epoch 36/100\n",
            "12/12 [==============================] - 0s 5ms/step - loss: 0.3103 - accuracy: 0.8993 - val_loss: 0.3393 - val_accuracy: 0.8830\n",
            "Epoch 37/100\n",
            "12/12 [==============================] - 0s 4ms/step - loss: 0.3015 - accuracy: 0.9078 - val_loss: 0.3339 - val_accuracy: 0.8883\n",
            "Epoch 38/100\n",
            "12/12 [==============================] - 0s 4ms/step - loss: 0.2974 - accuracy: 0.9046 - val_loss: 0.3628 - val_accuracy: 0.8457\n",
            "Epoch 39/100\n",
            "12/12 [==============================] - 0s 5ms/step - loss: 0.2559 - accuracy: 0.8775 - val_loss: 0.3277 - val_accuracy: 0.8989\n",
            "Epoch 40/100\n",
            "12/12 [==============================] - 0s 4ms/step - loss: 0.2621 - accuracy: 0.9197 - val_loss: 0.3475 - val_accuracy: 0.8564\n",
            "Epoch 41/100\n",
            "12/12 [==============================] - 0s 4ms/step - loss: 0.3235 - accuracy: 0.8970 - val_loss: 0.3057 - val_accuracy: 0.8989\n",
            "Epoch 42/100\n",
            "12/12 [==============================] - 0s 4ms/step - loss: 0.2954 - accuracy: 0.8870 - val_loss: 0.3008 - val_accuracy: 0.9043\n",
            "Epoch 43/100\n",
            "12/12 [==============================] - 0s 4ms/step - loss: 0.2799 - accuracy: 0.9200 - val_loss: 0.3205 - val_accuracy: 0.8777\n",
            "Epoch 44/100\n",
            "12/12 [==============================] - 0s 5ms/step - loss: 0.2928 - accuracy: 0.9032 - val_loss: 0.3031 - val_accuracy: 0.8830\n",
            "Epoch 45/100\n",
            "12/12 [==============================] - 0s 4ms/step - loss: 0.3026 - accuracy: 0.8936 - val_loss: 0.2897 - val_accuracy: 0.8989\n",
            "Epoch 46/100\n",
            "12/12 [==============================] - 0s 4ms/step - loss: 0.2273 - accuracy: 0.9190 - val_loss: 0.2834 - val_accuracy: 0.9043\n",
            "Epoch 47/100\n",
            "12/12 [==============================] - 0s 5ms/step - loss: 0.2255 - accuracy: 0.9069 - val_loss: 0.2794 - val_accuracy: 0.9043\n",
            "Epoch 48/100\n",
            "12/12 [==============================] - 0s 4ms/step - loss: 0.2432 - accuracy: 0.9333 - val_loss: 0.2882 - val_accuracy: 0.8830\n",
            "Epoch 49/100\n",
            "12/12 [==============================] - 0s 4ms/step - loss: 0.3349 - accuracy: 0.8998 - val_loss: 0.2718 - val_accuracy: 0.9043\n",
            "Epoch 50/100\n",
            "12/12 [==============================] - 0s 4ms/step - loss: 0.2552 - accuracy: 0.9055 - val_loss: 0.2707 - val_accuracy: 0.8989\n",
            "Epoch 51/100\n",
            "12/12 [==============================] - 0s 4ms/step - loss: 0.2542 - accuracy: 0.9113 - val_loss: 0.3013 - val_accuracy: 0.8617\n",
            "Epoch 52/100\n",
            "12/12 [==============================] - 0s 4ms/step - loss: 0.2646 - accuracy: 0.9050 - val_loss: 0.2666 - val_accuracy: 0.9043\n",
            "Epoch 53/100\n",
            "12/12 [==============================] - 0s 4ms/step - loss: 0.2209 - accuracy: 0.9281 - val_loss: 0.2625 - val_accuracy: 0.9202\n",
            "Epoch 54/100\n",
            "12/12 [==============================] - 0s 4ms/step - loss: 0.2509 - accuracy: 0.9027 - val_loss: 0.2628 - val_accuracy: 0.8936\n",
            "Epoch 55/100\n",
            "12/12 [==============================] - 0s 4ms/step - loss: 0.2164 - accuracy: 0.9148 - val_loss: 0.2779 - val_accuracy: 0.8670\n",
            "Epoch 56/100\n",
            "12/12 [==============================] - 0s 4ms/step - loss: 0.2105 - accuracy: 0.9173 - val_loss: 0.2534 - val_accuracy: 0.9043\n",
            "Epoch 57/100\n",
            "12/12 [==============================] - 0s 21ms/step - loss: 0.2539 - accuracy: 0.9182 - val_loss: 0.2474 - val_accuracy: 0.8989\n",
            "Epoch 58/100\n",
            "12/12 [==============================] - 0s 4ms/step - loss: 0.2420 - accuracy: 0.9048 - val_loss: 0.2517 - val_accuracy: 0.9149\n",
            "Epoch 59/100\n",
            "12/12 [==============================] - 0s 5ms/step - loss: 0.2154 - accuracy: 0.9213 - val_loss: 0.3069 - val_accuracy: 0.8511\n",
            "Epoch 60/100\n",
            "12/12 [==============================] - 0s 5ms/step - loss: 0.2639 - accuracy: 0.8784 - val_loss: 0.2496 - val_accuracy: 0.9149\n",
            "Epoch 61/100\n",
            "12/12 [==============================] - 0s 5ms/step - loss: 0.2147 - accuracy: 0.9232 - val_loss: 0.2439 - val_accuracy: 0.8989\n",
            "Epoch 62/100\n",
            "12/12 [==============================] - 0s 5ms/step - loss: 0.2484 - accuracy: 0.9230 - val_loss: 0.2350 - val_accuracy: 0.9149\n",
            "Epoch 63/100\n",
            "12/12 [==============================] - 0s 5ms/step - loss: 0.2328 - accuracy: 0.9237 - val_loss: 0.2316 - val_accuracy: 0.9202\n",
            "Epoch 64/100\n",
            "12/12 [==============================] - 0s 4ms/step - loss: 0.1735 - accuracy: 0.9365 - val_loss: 0.2445 - val_accuracy: 0.8883\n",
            "Epoch 65/100\n",
            "12/12 [==============================] - 0s 4ms/step - loss: 0.1724 - accuracy: 0.9315 - val_loss: 0.2299 - val_accuracy: 0.9149\n",
            "Epoch 66/100\n",
            "12/12 [==============================] - 0s 4ms/step - loss: 0.1764 - accuracy: 0.9347 - val_loss: 0.2251 - val_accuracy: 0.9202\n",
            "Epoch 67/100\n",
            "12/12 [==============================] - 0s 4ms/step - loss: 0.2365 - accuracy: 0.9223 - val_loss: 0.2284 - val_accuracy: 0.9043\n",
            "Epoch 68/100\n",
            "12/12 [==============================] - 0s 4ms/step - loss: 0.2324 - accuracy: 0.9275 - val_loss: 0.2394 - val_accuracy: 0.8936\n",
            "Epoch 69/100\n",
            "12/12 [==============================] - 0s 4ms/step - loss: 0.2543 - accuracy: 0.9148 - val_loss: 0.2215 - val_accuracy: 0.9149\n",
            "Epoch 70/100\n",
            "12/12 [==============================] - 0s 4ms/step - loss: 0.2363 - accuracy: 0.9122 - val_loss: 0.2562 - val_accuracy: 0.8670\n",
            "Epoch 71/100\n",
            "12/12 [==============================] - 0s 5ms/step - loss: 0.2016 - accuracy: 0.9240 - val_loss: 0.2158 - val_accuracy: 0.9149\n",
            "Epoch 72/100\n",
            "12/12 [==============================] - 0s 5ms/step - loss: 0.2329 - accuracy: 0.9199 - val_loss: 0.2165 - val_accuracy: 0.9149\n",
            "Epoch 73/100\n",
            "12/12 [==============================] - 0s 5ms/step - loss: 0.2128 - accuracy: 0.9314 - val_loss: 0.2290 - val_accuracy: 0.8989\n",
            "Epoch 74/100\n",
            "12/12 [==============================] - 0s 4ms/step - loss: 0.1696 - accuracy: 0.9335 - val_loss: 0.2486 - val_accuracy: 0.8670\n",
            "Epoch 75/100\n",
            "12/12 [==============================] - 0s 4ms/step - loss: 0.2214 - accuracy: 0.9127 - val_loss: 0.2209 - val_accuracy: 0.9202\n",
            "Epoch 76/100\n",
            "12/12 [==============================] - 0s 4ms/step - loss: 0.2196 - accuracy: 0.9214 - val_loss: 0.2077 - val_accuracy: 0.9149\n",
            "Epoch 77/100\n",
            "12/12 [==============================] - 0s 5ms/step - loss: 0.2091 - accuracy: 0.9207 - val_loss: 0.2123 - val_accuracy: 0.9149\n",
            "Epoch 78/100\n",
            "12/12 [==============================] - 0s 4ms/step - loss: 0.1712 - accuracy: 0.9378 - val_loss: 0.2057 - val_accuracy: 0.9149\n",
            "Epoch 79/100\n",
            "12/12 [==============================] - 0s 4ms/step - loss: 0.1907 - accuracy: 0.9377 - val_loss: 0.2197 - val_accuracy: 0.8936\n",
            "Epoch 80/100\n",
            "12/12 [==============================] - 0s 4ms/step - loss: 0.1576 - accuracy: 0.9499 - val_loss: 0.2105 - val_accuracy: 0.9149\n",
            "Epoch 81/100\n",
            "12/12 [==============================] - 0s 5ms/step - loss: 0.1925 - accuracy: 0.9155 - val_loss: 0.2113 - val_accuracy: 0.9202\n",
            "Epoch 82/100\n",
            "12/12 [==============================] - 0s 4ms/step - loss: 0.1697 - accuracy: 0.9446 - val_loss: 0.2063 - val_accuracy: 0.9149\n",
            "Epoch 83/100\n",
            "12/12 [==============================] - 0s 4ms/step - loss: 0.1312 - accuracy: 0.9545 - val_loss: 0.1971 - val_accuracy: 0.9149\n",
            "Epoch 84/100\n",
            "12/12 [==============================] - 0s 5ms/step - loss: 0.1818 - accuracy: 0.9252 - val_loss: 0.1969 - val_accuracy: 0.9255\n",
            "Epoch 85/100\n",
            "12/12 [==============================] - 0s 5ms/step - loss: 0.1515 - accuracy: 0.9454 - val_loss: 0.1949 - val_accuracy: 0.9255\n",
            "Epoch 86/100\n",
            "12/12 [==============================] - 0s 4ms/step - loss: 0.1635 - accuracy: 0.9323 - val_loss: 0.1935 - val_accuracy: 0.9255\n",
            "Epoch 87/100\n",
            "12/12 [==============================] - 0s 4ms/step - loss: 0.1831 - accuracy: 0.9267 - val_loss: 0.2063 - val_accuracy: 0.9096\n",
            "Epoch 88/100\n",
            "12/12 [==============================] - 0s 4ms/step - loss: 0.1822 - accuracy: 0.9289 - val_loss: 0.1906 - val_accuracy: 0.9202\n",
            "Epoch 89/100\n",
            "12/12 [==============================] - 0s 4ms/step - loss: 0.1500 - accuracy: 0.9398 - val_loss: 0.1896 - val_accuracy: 0.9255\n",
            "Epoch 90/100\n",
            "12/12 [==============================] - 0s 4ms/step - loss: 0.1660 - accuracy: 0.9215 - val_loss: 0.1929 - val_accuracy: 0.9149\n",
            "Epoch 91/100\n",
            "12/12 [==============================] - 0s 5ms/step - loss: 0.1707 - accuracy: 0.9400 - val_loss: 0.1884 - val_accuracy: 0.9255\n",
            "Epoch 92/100\n",
            "12/12 [==============================] - 0s 5ms/step - loss: 0.1754 - accuracy: 0.9375 - val_loss: 0.1992 - val_accuracy: 0.9149\n",
            "Epoch 93/100\n",
            "12/12 [==============================] - 0s 5ms/step - loss: 0.1674 - accuracy: 0.9305 - val_loss: 0.2023 - val_accuracy: 0.9096\n",
            "Epoch 94/100\n",
            "12/12 [==============================] - 0s 4ms/step - loss: 0.1859 - accuracy: 0.9288 - val_loss: 0.1846 - val_accuracy: 0.9255\n",
            "Epoch 95/100\n",
            "12/12 [==============================] - 0s 5ms/step - loss: 0.1633 - accuracy: 0.9317 - val_loss: 0.1840 - val_accuracy: 0.9202\n",
            "Epoch 96/100\n",
            "12/12 [==============================] - 0s 4ms/step - loss: 0.1632 - accuracy: 0.9399 - val_loss: 0.1944 - val_accuracy: 0.9096\n",
            "Epoch 97/100\n",
            "12/12 [==============================] - 0s 5ms/step - loss: 0.1486 - accuracy: 0.9573 - val_loss: 0.1815 - val_accuracy: 0.9255\n",
            "Epoch 98/100\n",
            "12/12 [==============================] - 0s 5ms/step - loss: 0.1870 - accuracy: 0.9359 - val_loss: 0.1809 - val_accuracy: 0.9202\n",
            "Epoch 99/100\n",
            "12/12 [==============================] - 0s 5ms/step - loss: 0.1626 - accuracy: 0.9442 - val_loss: 0.1797 - val_accuracy: 0.9309\n",
            "Epoch 100/100\n",
            "12/12 [==============================] - 0s 4ms/step - loss: 0.1352 - accuracy: 0.9390 - val_loss: 0.1801 - val_accuracy: 0.9255\n",
            "12/12 [==============================] - 0s 1ms/step - loss: 0.1582 - accuracy: 0.9396\n",
            "Train score : [0.15824970602989197, 0.9396325349807739]\n",
            "6/6 [==============================] - 0s 2ms/step - loss: 0.1801 - accuracy: 0.9255\n",
            "Test score : [0.18013601005077362, 0.9255319237709045]\n"
          ],
          "name": "stdout"
        }
      ]
    },
    {
      "cell_type": "code",
      "metadata": {
        "colab": {
          "base_uri": "https://localhost:8080/",
          "height": 282
        },
        "id": "4YSk7hEUAHqW",
        "outputId": "4a966225-5695-40dc-ab28-dd5f66d01102"
      },
      "source": [
        "#plot loss and val_loss\r\n",
        "import matplotlib.pyplot as plt\r\n",
        "plt.plot(r.history['loss'], label = 'loss')\r\n",
        "plt.plot(r.history['val_loss'],label = 'val_loss')\r\n",
        "plt.legend()"
      ],
      "execution_count": 73,
      "outputs": [
        {
          "output_type": "execute_result",
          "data": {
            "text/plain": [
              "<matplotlib.legend.Legend at 0x7f42ab034be0>"
            ]
          },
          "metadata": {
            "tags": []
          },
          "execution_count": 73
        },
        {
          "output_type": "display_data",
          "data": {
            "image/png": "[encoded data removed]",
            "text/plain": [
              "<Figure size 432x288 with 1 Axes>"
            ]
          },
          "metadata": {
            "tags": [],
            "needs_background": "light"
          }
        }
      ]
    },
    {
      "cell_type": "code",
      "metadata": {
        "colab": {
          "base_uri": "https://localhost:8080/",
          "height": 282
        },
        "id": "Shl6QKpnBkcF",
        "outputId": "9ae6b873-e077-4614-af47-d4c00e7a5037"
      },
      "source": [
        "# Plot the accuracy too\r\n",
        "plt.plot(r.history['accuracy'],label ='acc')\r\n",
        "plt.plot(r.history['val_accuracy'],label = 'val_acc')\r\n",
        "plt.legend()"
      ],
      "execution_count": 74,
      "outputs": [
        {
          "output_type": "execute_result",
          "data": {
            "text/plain": [
              "<matplotlib.legend.Legend at 0x7f42aafacda0>"
            ]
          },
          "metadata": {
            "tags": []
          },
          "execution_count": 74
        },
        {
          "output_type": "display_data",
          "data": {
            "image/png": "[encoded data removed]",
            "text/plain": [
              "<Figure size 432x288 with 1 Axes>"
            ]
          },
          "metadata": {
            "tags": [],
            "needs_background": "light"
          }
        }
      ]
    },
    {
      "cell_type": "markdown",
      "metadata": {
        "id": "QO40wNqxD1CO"
      },
      "source": [
        "# Part 2: Making Prediction\r\n"
      ]
    },
    {
      "cell_type": "code",
      "metadata": {
        "colab": {
          "base_uri": "https://localhost:8080/"
        },
        "id": "TznInm2RD8vE",
        "outputId": "e728580e-6b63-489e-d420-fbd65a08a6d9"
      },
      "source": [
        "# Make predication\r\n",
        "P = model.predict(X_test)\r\n",
        "print(P) # they are outputs of the sigmoid, interpreted as probabilites p(y = 1 | x)"
      ],
      "execution_count": 76,
      "outputs": [
        {
          "output_type": "stream",
          "text": [
            "[[9.8191381e-01]\n",
            " [9.7805794e-05]\n",
            " [9.9233878e-01]\n",
            " [3.8430232e-09]\n",
            " [2.6073831e-12]\n",
            " [9.9740815e-01]\n",
            " [9.9052691e-01]\n",
            " [9.9637008e-01]\n",
            " [7.3046875e-01]\n",
            " [9.8440945e-01]\n",
            " [1.6599716e-06]\n",
            " [2.6834476e-23]\n",
            " [9.5900762e-01]\n",
            " [9.7506171e-01]\n",
            " [9.9029118e-01]\n",
            " [3.5083216e-01]\n",
            " [5.8032870e-03]\n",
            " [9.9451458e-01]\n",
            " [9.9610639e-01]\n",
            " [9.5099819e-01]\n",
            " [4.4178954e-01]\n",
            " [9.8053360e-01]\n",
            " [8.1361043e-01]\n",
            " [4.7418475e-04]\n",
            " [8.4071376e-05]\n",
            " [9.7074580e-01]\n",
            " [8.0363524e-01]\n",
            " [9.9614537e-01]\n",
            " [6.8862194e-01]\n",
            " [8.1535715e-01]\n",
            " [9.9882483e-01]\n",
            " [9.9125493e-01]\n",
            " [9.7827238e-01]\n",
            " [2.2514856e-01]\n",
            " [5.4288208e-03]\n",
            " [7.2659993e-01]\n",
            " [7.3546724e-09]\n",
            " [9.9464005e-01]\n",
            " [9.4163632e-01]\n",
            " [9.8642415e-01]\n",
            " [9.6474242e-01]\n",
            " [2.4149966e-07]\n",
            " [9.9625742e-01]\n",
            " [8.9569592e-01]\n",
            " [5.5590272e-04]\n",
            " [9.8169696e-01]\n",
            " [4.3175038e-05]\n",
            " [9.8967624e-01]\n",
            " [9.9336791e-01]\n",
            " [9.8131025e-01]\n",
            " [6.5679611e-05]\n",
            " [9.8136735e-01]\n",
            " [9.6490496e-01]\n",
            " [4.7022104e-04]\n",
            " [9.9258149e-01]\n",
            " [9.9171984e-01]\n",
            " [9.1021621e-01]\n",
            " [8.7460661e-01]\n",
            " [9.8253864e-01]\n",
            " [9.9752134e-01]\n",
            " [9.9552107e-01]\n",
            " [1.1308216e-14]\n",
            " [4.6891868e-03]\n",
            " [5.7176054e-01]\n",
            " [5.6118883e-05]\n",
            " [4.2628944e-03]\n",
            " [4.2521659e-01]\n",
            " [6.1872184e-02]\n",
            " [9.9874163e-01]\n",
            " [9.1921747e-01]\n",
            " [1.7926292e-05]\n",
            " [9.9703336e-01]\n",
            " [9.8153257e-01]\n",
            " [9.8350626e-01]\n",
            " [1.4605391e-01]\n",
            " [9.8264724e-01]\n",
            " [9.9856424e-01]\n",
            " [9.9782884e-01]\n",
            " [9.2245549e-01]\n",
            " [3.1943065e-10]\n",
            " [9.4527787e-01]\n",
            " [9.4171393e-01]\n",
            " [3.6354982e-20]\n",
            " [5.8659271e-07]\n",
            " [9.7271240e-01]\n",
            " [9.4940150e-01]\n",
            " [2.6232638e-06]\n",
            " [9.8931837e-01]\n",
            " [1.0782653e-04]\n",
            " [2.1175661e-05]\n",
            " [9.8062432e-01]\n",
            " [4.7512594e-01]\n",
            " [9.7779524e-01]\n",
            " [9.7127557e-01]\n",
            " [9.9226773e-01]\n",
            " [9.8535502e-01]\n",
            " [6.6347480e-01]\n",
            " [8.2308054e-04]\n",
            " [9.9791336e-01]\n",
            " [9.5327044e-01]\n",
            " [9.9824917e-01]\n",
            " [2.1993470e-11]\n",
            " [9.1553295e-01]\n",
            " [9.8275435e-01]\n",
            " [4.2810046e-07]\n",
            " [9.9749261e-01]\n",
            " [9.9094522e-01]\n",
            " [3.0714498e-09]\n",
            " [5.3181440e-02]\n",
            " [9.9700487e-01]\n",
            " [9.4478190e-01]\n",
            " [6.8085217e-01]\n",
            " [9.1521335e-01]\n",
            " [6.2714463e-01]\n",
            " [9.3453693e-01]\n",
            " [7.7149022e-01]\n",
            " [9.8948950e-01]\n",
            " [9.9201959e-01]\n",
            " [9.8915565e-01]\n",
            " [9.0146637e-01]\n",
            " [3.7724078e-02]\n",
            " [4.5039088e-02]\n",
            " [9.9245298e-01]\n",
            " [9.1862482e-01]\n",
            " [9.9056137e-01]\n",
            " [9.6636313e-01]\n",
            " [2.8988698e-01]\n",
            " [6.2322617e-04]\n",
            " [3.3672724e-05]\n",
            " [8.7401545e-01]\n",
            " [9.9791867e-01]\n",
            " [4.0385846e-09]\n",
            " [7.1980590e-09]\n",
            " [9.8053354e-01]\n",
            " [9.9710190e-01]\n",
            " [9.9773848e-01]\n",
            " [8.5225093e-01]\n",
            " [9.9719846e-01]\n",
            " [9.7447455e-01]\n",
            " [9.9446416e-01]\n",
            " [9.9581647e-01]\n",
            " [9.9121535e-01]\n",
            " [7.2237420e-01]\n",
            " [8.6339414e-03]\n",
            " [3.5253613e-06]\n",
            " [7.9135811e-01]\n",
            " [6.9812906e-01]\n",
            " [9.8708159e-01]\n",
            " [9.7089159e-01]\n",
            " [9.9781078e-01]\n",
            " [5.8907160e-13]\n",
            " [6.1648703e-01]\n",
            " [9.7087020e-01]\n",
            " [9.9842793e-01]\n",
            " [9.5746553e-01]\n",
            " [4.7269118e-06]\n",
            " [2.7379281e-07]\n",
            " [7.6736248e-01]\n",
            " [9.9171853e-01]\n",
            " [9.6717948e-01]\n",
            " [3.4892559e-04]\n",
            " [9.7744626e-01]\n",
            " [9.9679339e-01]\n",
            " [1.0853279e-12]\n",
            " [3.3330940e-12]\n",
            " [9.9478340e-01]\n",
            " [2.7492642e-04]\n",
            " [9.9535656e-01]\n",
            " [9.9733776e-01]\n",
            " [1.3395572e-08]\n",
            " [5.2251363e-01]\n",
            " [9.9892640e-01]\n",
            " [9.8640641e-08]\n",
            " [6.2595464e-05]\n",
            " [2.7491263e-01]\n",
            " [2.0903119e-01]\n",
            " [2.0641446e-02]\n",
            " [7.5882161e-01]\n",
            " [7.3613894e-01]\n",
            " [6.8168056e-01]\n",
            " [1.9163181e-08]\n",
            " [9.7602737e-01]\n",
            " [9.1830039e-01]\n",
            " [9.8902428e-01]\n",
            " [3.1540436e-01]\n",
            " [6.9688469e-12]\n",
            " [7.7204788e-01]\n",
            " [5.3065288e-01]]\n"
          ],
          "name": "stdout"
        }
      ]
    },
    {
      "cell_type": "code",
      "metadata": {
        "colab": {
          "base_uri": "https://localhost:8080/"
        },
        "id": "lPTTuuQPfvVr",
        "outputId": "ea3c4753-de41-4f6e-d79c-079965b16220"
      },
      "source": [
        "# Round to get the actual predictions\r\n",
        "# Note: has to be flattened since the targets are size (N, ) while the predictions are size (N,1)\r\n",
        "import numpy as np\r\n",
        "P = np.round(P).flatten()\r\n",
        "print(P)"
      ],
      "execution_count": 77,
      "outputs": [
        {
          "output_type": "stream",
          "text": [
            "[1. 0. 1. 0. 0. 1. 1. 1. 1. 1. 0. 0. 1. 1. 1. 0. 0. 1. 1. 1. 0. 1. 1. 0.\n",
            " 0. 1. 1. 1. 1. 1. 1. 1. 1. 0. 0. 1. 0. 1. 1. 1. 1. 0. 1. 1. 0. 1. 0. 1.\n",
            " 1. 1. 0. 1. 1. 0. 1. 1. 1. 1. 1. 1. 1. 0. 0. 1. 0. 0. 0. 0. 1. 1. 0. 1.\n",
            " 1. 1. 0. 1. 1. 1. 1. 0. 1. 1. 0. 0. 1. 1. 0. 1. 0. 0. 1. 0. 1. 1. 1. 1.\n",
            " 1. 0. 1. 1. 1. 0. 1. 1. 0. 1. 1. 0. 0. 1. 1. 1. 1. 1. 1. 1. 1. 1. 1. 1.\n",
            " 0. 0. 1. 1. 1. 1. 0. 0. 0. 1. 1. 0. 0. 1. 1. 1. 1. 1. 1. 1. 1. 1. 1. 0.\n",
            " 0. 1. 1. 1. 1. 1. 0. 1. 1. 1. 1. 0. 0. 1. 1. 1. 0. 1. 1. 0. 0. 1. 0. 1.\n",
            " 1. 0. 1. 1. 0. 0. 0. 0. 0. 1. 1. 1. 0. 1. 1. 1. 0. 0. 1. 1.]\n"
          ],
          "name": "stdout"
        }
      ]
    },
    {
      "cell_type": "code",
      "metadata": {
        "colab": {
          "base_uri": "https://localhost:8080/"
        },
        "id": "2lPzuvzGgIrR",
        "outputId": "0af7b58c-879d-44c6-e767-d6fb40419924"
      },
      "source": [
        "# calculate the accuracy, compare it to evaluate() output\r\n",
        "print(\"Manually calculated accuracy: \",np.mean(P == Y_test))\r\n",
        "print(\"Evaluate output :\",model.evaluate(X_test,Y_test))"
      ],
      "execution_count": 78,
      "outputs": [
        {
          "output_type": "stream",
          "text": [
            "Manually calculated accuracy:  0.925531914893617\n",
            "6/6 [==============================] - 0s 2ms/step - loss: 0.1801 - accuracy: 0.9255\n",
            "Evaluate output : [0.18013601005077362, 0.9255319237709045]\n"
          ],
          "name": "stdout"
        }
      ]
    },
    {
      "cell_type": "markdown",
      "metadata": {
        "id": "Hz4kzGYoiYYd"
      },
      "source": [
        "# Part 3: Saving and Loading a Model"
      ]
    },
    {
      "cell_type": "code",
      "metadata": {
        "id": "yDp98Xd5idEp"
      },
      "source": [
        "#Let save \r\n",
        "model.save('linearclassifier.h5')"
      ],
      "execution_count": 79,
      "outputs": []
    },
    {
      "cell_type": "code",
      "metadata": {
        "colab": {
          "base_uri": "https://localhost:8080/"
        },
        "id": "-BW-YmKripUS",
        "outputId": "1d65972f-5dd4-4bad-bb3b-6a6962a2e90e"
      },
      "source": [
        "# Check that the model file exists\r\n",
        "!ls -lh"
      ],
      "execution_count": 80,
      "outputs": [
        {
          "output_type": "stream",
          "text": [
            "total 24K\n",
            "-rw-r--r-- 1 root root  19K Jan  3 13:58 linearclassifier.h5\n",
            "drwxr-xr-x 1 root root 4.0K Dec 21 17:29 sample_data\n"
          ],
          "name": "stdout"
        }
      ]
    },
    {
      "cell_type": "code",
      "metadata": {
        "colab": {
          "base_uri": "https://localhost:8080/"
        },
        "id": "xzF8qSiXi1cI",
        "outputId": "092e943f-5f2a-460e-8891-a691c8f9bdb1"
      },
      "source": [
        "#Let load model\r\n",
        "model = tf.keras.models.load_model('linearclassifier.h5')\r\n",
        "print(model.layers)\r\n",
        "model.evaluate(X_test,Y_test)"
      ],
      "execution_count": 82,
      "outputs": [
        {
          "output_type": "stream",
          "text": [
            "[<tensorflow.python.keras.layers.core.Dense object at 0x7f42a9641588>]\n",
            "6/6 [==============================] - 0s 2ms/step - loss: 0.1801 - accuracy: 0.9255\n"
          ],
          "name": "stdout"
        },
        {
          "output_type": "execute_result",
          "data": {
            "text/plain": [
              "[0.18013601005077362, 0.9255319237709045]"
            ]
          },
          "metadata": {
            "tags": []
          },
          "execution_count": 82
        }
      ]
    }
  ]
}