{
  "nbformat": 4,
  "nbformat_minor": 0,
  "metadata": {
    "colab": {
      "name": "TF2.4 Linear Regression.ipynb",
      "provenance": [],
      "collapsed_sections": []
    },
    "kernelspec": {
      "name": "python3",
      "display_name": "Python 3"
    }
  },
  "cells": [
    {
      "cell_type": "markdown",
      "metadata": {
        "id": "DqkDI-hmH4-l"
      },
      "source": [
        "### Gobal Krishnan V [Click me !!!](https://engineer-ece.github.io/Home)\r\n",
        "created date = 03-01-2021\r\n",
        "\r\n",
        "# Linear Regression"
      ]
    },
    {
      "cell_type": "code",
      "metadata": {
        "id": "bh5jPjevH8Pl"
      },
      "source": [
        "#Other imports\r\n",
        "import pandas as pd\r\n",
        "import numpy as np\r\n",
        "import matplotlib.pyplot as plt"
      ],
      "execution_count": 17,
      "outputs": []
    },
    {
      "cell_type": "code",
      "metadata": {
        "colab": {
          "base_uri": "https://localhost:8080/"
        },
        "id": "8X1u1owGIPXj",
        "outputId": "2610c00e-ceff-44d4-8d31-4e1adfade12c"
      },
      "source": [
        "#Get the data\r\n",
        "!wget https://raw.githubusercontent.com/lazyprogrammer/machine_learning_examples/master/tf2.0/moore.csv"
      ],
      "execution_count": 37,
      "outputs": [
        {
          "output_type": "stream",
          "text": [
            "--2021-01-03 12:20:04--  https://raw.githubusercontent.com/lazyprogrammer/machine_learning_examples/master/tf2.0/moore.csv\n",
            "Resolving raw.githubusercontent.com (raw.githubusercontent.com)... 151.101.0.133, 151.101.64.133, 151.101.128.133, ...\n",
            "Connecting to raw.githubusercontent.com (raw.githubusercontent.com)|151.101.0.133|:443... connected.\n",
            "HTTP request sent, awaiting response... 200 OK\n",
            "Length: 2302 (2.2K) [text/plain]\n",
            "Saving to: ‘moore.csv’\n",
            "\n",
            "moore.csv           100%[===================>]   2.25K  --.-KB/s    in 0s      \n",
            "\n",
            "2021-01-03 12:20:04 (49.8 MB/s) - ‘moore.csv’ saved [2302/2302]\n",
            "\n"
          ],
          "name": "stdout"
        }
      ]
    },
    {
      "cell_type": "code",
      "metadata": {
        "colab": {
          "base_uri": "https://localhost:8080/"
        },
        "id": "cSQUl3sCJNNM",
        "outputId": "6994990c-2475-4e8f-f18d-cff6757228e6"
      },
      "source": [
        "!ls"
      ],
      "execution_count": 38,
      "outputs": [
        {
          "output_type": "stream",
          "text": [
            "moore.csv  sample_data\n"
          ],
          "name": "stdout"
        }
      ]
    },
    {
      "cell_type": "code",
      "metadata": {
        "id": "mVUdFW0TKdbc"
      },
      "source": [
        "import pandas as pd\r\n",
        "data =pd.read_csv('moore.csv',header=None).values\r\n",
        "X = data[:,0].reshape(-1,1)  # make it a 2-D array of size NxD where D = 1\r\n",
        "Y = data[:,1]\r\n"
      ],
      "execution_count": 40,
      "outputs": []
    },
    {
      "cell_type": "code",
      "metadata": {
        "colab": {
          "base_uri": "https://localhost:8080/",
          "height": 293
        },
        "id": "u83jasZKMd3N",
        "outputId": "3c096dd3-8f91-46e6-a1b1-b081d4c0acb9"
      },
      "source": [
        "#Plot the data -it is exponetial!\r\n",
        "plt.scatter(X,Y)"
      ],
      "execution_count": 41,
      "outputs": [
        {
          "output_type": "execute_result",
          "data": {
            "text/plain": [
              "<matplotlib.collections.PathCollection at 0x7f1188a84ac8>"
            ]
          },
          "metadata": {
            "tags": []
          },
          "execution_count": 41
        },
        {
          "output_type": "display_data",
          "data": {
            "image/png": "[encoded data removed]",
            "text/plain": [
              "<Figure size 432x288 with 1 Axes>"
            ]
          },
          "metadata": {
            "tags": [],
            "needs_background": "light"
          }
        }
      ]
    },
    {
      "cell_type": "code",
      "metadata": {
        "colab": {
          "base_uri": "https://localhost:8080/",
          "height": 282
        },
        "id": "lOwV6NcCMsEb",
        "outputId": "1b0e9873-4333-40c2-e75d-a187447bedeb"
      },
      "source": [
        "# Linear model, take log\r\n",
        "Y = np.log(Y)\r\n",
        "plt.scatter(X,Y)\r\n"
      ],
      "execution_count": 42,
      "outputs": [
        {
          "output_type": "execute_result",
          "data": {
            "text/plain": [
              "<matplotlib.collections.PathCollection at 0x7f11883daeb8>"
            ]
          },
          "metadata": {
            "tags": []
          },
          "execution_count": 42
        },
        {
          "output_type": "display_data",
          "data": {
            "image/png": "[encoded data removed]",
            "text/plain": [
              "<Figure size 432x288 with 1 Axes>"
            ]
          },
          "metadata": {
            "tags": [],
            "needs_background": "light"
          }
        }
      ]
    },
    {
      "cell_type": "code",
      "metadata": {
        "id": "1ODbiHbeM6nj"
      },
      "source": [
        "#Center the X date so the are not too large\r\n",
        "#We could scale it too but then we'd have to reverse the transformation later\r\n",
        "X = X - X.mean()"
      ],
      "execution_count": 43,
      "outputs": []
    },
    {
      "cell_type": "code",
      "metadata": {
        "colab": {
          "base_uri": "https://localhost:8080/"
        },
        "id": "Q59p7Vn3NHYa",
        "outputId": "ac865a66-e8b8-4cfb-d2a5-aec3a2e5a70d"
      },
      "source": [
        "# Now create our Tensorflow model\r\n",
        "import tensorflow as tf\r\n",
        "\r\n",
        "model = tf.keras.models.Sequential([\r\n",
        "      tf.keras.layers.Input(shape=(1,)),\r\n",
        "      tf.keras.layers.Dense(1)\r\n",
        "      ])\r\n",
        "\r\n",
        "model.compile(optimizer = tf.keras.optimizers.SGD(0.001,0.9), loss = 'mse')\r\n",
        "\r\n",
        "# learning rate schedular\r\n",
        "def schedule(epoch,lr):\r\n",
        "    if epoch >=50:\r\n",
        "       return 0.0001\r\n",
        "    return 0.001\r\n",
        "\r\n",
        "scheduler = tf.keras.callbacks.LearningRateScheduler(schedule)\r\n",
        "\r\n",
        "# Train the model\r\n",
        "r = model.fit(X,Y, epochs = 200, callbacks = [scheduler])"
      ],
      "execution_count": 46,
      "outputs": [
        {
          "output_type": "stream",
          "text": [
            "Epoch 1/200\n",
            "6/6 [==============================] - 0s 2ms/step - loss: 316.0864\n",
            "Epoch 2/200\n",
            "6/6 [==============================] - 0s 2ms/step - loss: 296.9833\n",
            "Epoch 3/200\n",
            "6/6 [==============================] - 0s 2ms/step - loss: 323.8590\n",
            "Epoch 4/200\n",
            "6/6 [==============================] - 0s 1ms/step - loss: 309.5085\n",
            "Epoch 5/200\n",
            "6/6 [==============================] - 0s 1ms/step - loss: 179.4817\n",
            "Epoch 6/200\n",
            "6/6 [==============================] - 0s 1ms/step - loss: 124.1207\n",
            "Epoch 7/200\n",
            "6/6 [==============================] - 0s 1ms/step - loss: 133.9588\n",
            "Epoch 8/200\n",
            "6/6 [==============================] - 0s 2ms/step - loss: 91.8886\n",
            "Epoch 9/200\n",
            "6/6 [==============================] - 0s 2ms/step - loss: 59.9534\n",
            "Epoch 10/200\n",
            "6/6 [==============================] - 0s 2ms/step - loss: 37.8858\n",
            "Epoch 11/200\n",
            "6/6 [==============================] - 0s 2ms/step - loss: 33.6155\n",
            "Epoch 12/200\n",
            "6/6 [==============================] - 0s 2ms/step - loss: 22.1286\n",
            "Epoch 13/200\n",
            "6/6 [==============================] - 0s 2ms/step - loss: 15.0519\n",
            "Epoch 14/200\n",
            "6/6 [==============================] - 0s 2ms/step - loss: 10.7020\n",
            "Epoch 15/200\n",
            "6/6 [==============================] - 0s 2ms/step - loss: 8.3152\n",
            "Epoch 16/200\n",
            "6/6 [==============================] - 0s 1ms/step - loss: 9.6235\n",
            "Epoch 17/200\n",
            "6/6 [==============================] - 0s 2ms/step - loss: 8.8295\n",
            "Epoch 18/200\n",
            "6/6 [==============================] - 0s 2ms/step - loss: 6.4212\n",
            "Epoch 19/200\n",
            "6/6 [==============================] - 0s 2ms/step - loss: 3.1865\n",
            "Epoch 20/200\n",
            "6/6 [==============================] - 0s 2ms/step - loss: 2.8701\n",
            "Epoch 21/200\n",
            "6/6 [==============================] - 0s 2ms/step - loss: 2.4603\n",
            "Epoch 22/200\n",
            "6/6 [==============================] - 0s 1ms/step - loss: 2.3774\n",
            "Epoch 23/200\n",
            "6/6 [==============================] - 0s 2ms/step - loss: 2.3000\n",
            "Epoch 24/200\n",
            "6/6 [==============================] - 0s 2ms/step - loss: 2.2381\n",
            "Epoch 25/200\n",
            "6/6 [==============================] - 0s 2ms/step - loss: 1.8471\n",
            "Epoch 26/200\n",
            "6/6 [==============================] - 0s 2ms/step - loss: 1.5962\n",
            "Epoch 27/200\n",
            "6/6 [==============================] - 0s 2ms/step - loss: 1.3260\n",
            "Epoch 28/200\n",
            "6/6 [==============================] - 0s 2ms/step - loss: 1.2949\n",
            "Epoch 29/200\n",
            "6/6 [==============================] - 0s 1ms/step - loss: 2.0320\n",
            "Epoch 30/200\n",
            "6/6 [==============================] - 0s 1ms/step - loss: 1.3656\n",
            "Epoch 31/200\n",
            "6/6 [==============================] - 0s 2ms/step - loss: 1.2587\n",
            "Epoch 32/200\n",
            "6/6 [==============================] - 0s 2ms/step - loss: 1.1270\n",
            "Epoch 33/200\n",
            "6/6 [==============================] - 0s 2ms/step - loss: 2.1089\n",
            "Epoch 34/200\n",
            "6/6 [==============================] - 0s 2ms/step - loss: 2.3475\n",
            "Epoch 35/200\n",
            "6/6 [==============================] - 0s 2ms/step - loss: 1.5430\n",
            "Epoch 36/200\n",
            "6/6 [==============================] - 0s 2ms/step - loss: 1.3069\n",
            "Epoch 37/200\n",
            "6/6 [==============================] - 0s 2ms/step - loss: 1.1915\n",
            "Epoch 38/200\n",
            "6/6 [==============================] - 0s 2ms/step - loss: 0.9538\n",
            "Epoch 39/200\n",
            "6/6 [==============================] - 0s 2ms/step - loss: 0.9315\n",
            "Epoch 40/200\n",
            "6/6 [==============================] - 0s 2ms/step - loss: 0.8484\n",
            "Epoch 41/200\n",
            "6/6 [==============================] - 0s 2ms/step - loss: 0.6945\n",
            "Epoch 42/200\n",
            "6/6 [==============================] - 0s 2ms/step - loss: 1.2647\n",
            "Epoch 43/200\n",
            "6/6 [==============================] - 0s 2ms/step - loss: 1.2094\n",
            "Epoch 44/200\n",
            "6/6 [==============================] - 0s 2ms/step - loss: 0.9746\n",
            "Epoch 45/200\n",
            "6/6 [==============================] - 0s 2ms/step - loss: 1.1174\n",
            "Epoch 46/200\n",
            "6/6 [==============================] - 0s 3ms/step - loss: 0.9269\n",
            "Epoch 47/200\n",
            "6/6 [==============================] - 0s 2ms/step - loss: 0.8043\n",
            "Epoch 48/200\n",
            "6/6 [==============================] - 0s 2ms/step - loss: 1.1336\n",
            "Epoch 49/200\n",
            "6/6 [==============================] - 0s 2ms/step - loss: 0.8573\n",
            "Epoch 50/200\n",
            "6/6 [==============================] - 0s 2ms/step - loss: 0.8638\n",
            "Epoch 51/200\n",
            "6/6 [==============================] - 0s 2ms/step - loss: 2.9864\n",
            "Epoch 52/200\n",
            "6/6 [==============================] - 0s 2ms/step - loss: 6.0581\n",
            "Epoch 53/200\n",
            "6/6 [==============================] - 0s 2ms/step - loss: 1.2008\n",
            "Epoch 54/200\n",
            "6/6 [==============================] - 0s 2ms/step - loss: 1.8820\n",
            "Epoch 55/200\n",
            "6/6 [==============================] - 0s 2ms/step - loss: 1.3368\n",
            "Epoch 56/200\n",
            "6/6 [==============================] - 0s 2ms/step - loss: 0.9844\n",
            "Epoch 57/200\n",
            "6/6 [==============================] - 0s 2ms/step - loss: 0.9623\n",
            "Epoch 58/200\n",
            "6/6 [==============================] - 0s 2ms/step - loss: 0.9184\n",
            "Epoch 59/200\n",
            "6/6 [==============================] - 0s 2ms/step - loss: 0.9666\n",
            "Epoch 60/200\n",
            "6/6 [==============================] - 0s 3ms/step - loss: 0.9667\n",
            "Epoch 61/200\n",
            "6/6 [==============================] - 0s 2ms/step - loss: 0.8320\n",
            "Epoch 62/200\n",
            "6/6 [==============================] - 0s 2ms/step - loss: 0.9653\n",
            "Epoch 63/200\n",
            "6/6 [==============================] - 0s 2ms/step - loss: 1.0887\n",
            "Epoch 64/200\n",
            "6/6 [==============================] - 0s 2ms/step - loss: 0.7661\n",
            "Epoch 65/200\n",
            "6/6 [==============================] - 0s 2ms/step - loss: 0.8042\n",
            "Epoch 66/200\n",
            "6/6 [==============================] - 0s 2ms/step - loss: 0.8833\n",
            "Epoch 67/200\n",
            "6/6 [==============================] - 0s 1ms/step - loss: 0.8180\n",
            "Epoch 68/200\n",
            "6/6 [==============================] - 0s 2ms/step - loss: 0.8276\n",
            "Epoch 69/200\n",
            "6/6 [==============================] - 0s 2ms/step - loss: 0.8825\n",
            "Epoch 70/200\n",
            "6/6 [==============================] - 0s 2ms/step - loss: 0.8465\n",
            "Epoch 71/200\n",
            "6/6 [==============================] - 0s 2ms/step - loss: 0.7406\n",
            "Epoch 72/200\n",
            "6/6 [==============================] - 0s 2ms/step - loss: 0.8773\n",
            "Epoch 73/200\n",
            "6/6 [==============================] - 0s 2ms/step - loss: 0.8686\n",
            "Epoch 74/200\n",
            "6/6 [==============================] - 0s 2ms/step - loss: 0.8307\n",
            "Epoch 75/200\n",
            "6/6 [==============================] - 0s 2ms/step - loss: 0.9047\n",
            "Epoch 76/200\n",
            "6/6 [==============================] - 0s 3ms/step - loss: 0.9855\n",
            "Epoch 77/200\n",
            "6/6 [==============================] - 0s 2ms/step - loss: 0.8185\n",
            "Epoch 78/200\n",
            "6/6 [==============================] - 0s 2ms/step - loss: 0.8296\n",
            "Epoch 79/200\n",
            "6/6 [==============================] - 0s 2ms/step - loss: 0.7556\n",
            "Epoch 80/200\n",
            "6/6 [==============================] - 0s 2ms/step - loss: 0.8533\n",
            "Epoch 81/200\n",
            "6/6 [==============================] - 0s 2ms/step - loss: 0.9201\n",
            "Epoch 82/200\n",
            "6/6 [==============================] - 0s 2ms/step - loss: 0.9564\n",
            "Epoch 83/200\n",
            "6/6 [==============================] - 0s 2ms/step - loss: 0.7808\n",
            "Epoch 84/200\n",
            "6/6 [==============================] - 0s 2ms/step - loss: 0.8839\n",
            "Epoch 85/200\n",
            "6/6 [==============================] - 0s 2ms/step - loss: 0.9026\n",
            "Epoch 86/200\n",
            "6/6 [==============================] - 0s 2ms/step - loss: 1.0317\n",
            "Epoch 87/200\n",
            "6/6 [==============================] - 0s 2ms/step - loss: 0.9746\n",
            "Epoch 88/200\n",
            "6/6 [==============================] - 0s 2ms/step - loss: 0.7210\n",
            "Epoch 89/200\n",
            "6/6 [==============================] - 0s 2ms/step - loss: 0.7357\n",
            "Epoch 90/200\n",
            "6/6 [==============================] - 0s 2ms/step - loss: 0.8051\n",
            "Epoch 91/200\n",
            "6/6 [==============================] - 0s 2ms/step - loss: 0.7270\n",
            "Epoch 92/200\n",
            "6/6 [==============================] - 0s 2ms/step - loss: 0.7603\n",
            "Epoch 93/200\n",
            "6/6 [==============================] - 0s 2ms/step - loss: 0.7931\n",
            "Epoch 94/200\n",
            "6/6 [==============================] - 0s 2ms/step - loss: 0.8345\n",
            "Epoch 95/200\n",
            "6/6 [==============================] - 0s 2ms/step - loss: 1.0167\n",
            "Epoch 96/200\n",
            "6/6 [==============================] - 0s 2ms/step - loss: 0.8280\n",
            "Epoch 97/200\n",
            "6/6 [==============================] - 0s 2ms/step - loss: 0.8612\n",
            "Epoch 98/200\n",
            "6/6 [==============================] - 0s 2ms/step - loss: 1.0084\n",
            "Epoch 99/200\n",
            "6/6 [==============================] - 0s 2ms/step - loss: 0.8188\n",
            "Epoch 100/200\n",
            "6/6 [==============================] - 0s 2ms/step - loss: 0.8356\n",
            "Epoch 101/200\n",
            "6/6 [==============================] - 0s 2ms/step - loss: 0.9461\n",
            "Epoch 102/200\n",
            "6/6 [==============================] - 0s 2ms/step - loss: 0.8233\n",
            "Epoch 103/200\n",
            "6/6 [==============================] - 0s 2ms/step - loss: 0.8462\n",
            "Epoch 104/200\n",
            "6/6 [==============================] - 0s 2ms/step - loss: 0.9015\n",
            "Epoch 105/200\n",
            "6/6 [==============================] - 0s 2ms/step - loss: 0.6842\n",
            "Epoch 106/200\n",
            "6/6 [==============================] - 0s 3ms/step - loss: 0.9605\n",
            "Epoch 107/200\n",
            "6/6 [==============================] - 0s 2ms/step - loss: 0.7617\n",
            "Epoch 108/200\n",
            "6/6 [==============================] - 0s 1ms/step - loss: 0.7985\n",
            "Epoch 109/200\n",
            "6/6 [==============================] - 0s 2ms/step - loss: 0.8397\n",
            "Epoch 110/200\n",
            "6/6 [==============================] - 0s 2ms/step - loss: 0.8244\n",
            "Epoch 111/200\n",
            "6/6 [==============================] - 0s 2ms/step - loss: 0.8136\n",
            "Epoch 112/200\n",
            "6/6 [==============================] - 0s 1ms/step - loss: 0.8830\n",
            "Epoch 113/200\n",
            "6/6 [==============================] - 0s 3ms/step - loss: 0.7088\n",
            "Epoch 114/200\n",
            "6/6 [==============================] - 0s 2ms/step - loss: 0.8740\n",
            "Epoch 115/200\n",
            "6/6 [==============================] - 0s 1ms/step - loss: 0.9274\n",
            "Epoch 116/200\n",
            "6/6 [==============================] - 0s 2ms/step - loss: 0.8773\n",
            "Epoch 117/200\n",
            "6/6 [==============================] - 0s 1ms/step - loss: 0.9964\n",
            "Epoch 118/200\n",
            "6/6 [==============================] - 0s 2ms/step - loss: 1.0886\n",
            "Epoch 119/200\n",
            "6/6 [==============================] - 0s 2ms/step - loss: 1.0437\n",
            "Epoch 120/200\n",
            "6/6 [==============================] - 0s 2ms/step - loss: 0.8090\n",
            "Epoch 121/200\n",
            "6/6 [==============================] - 0s 2ms/step - loss: 0.8801\n",
            "Epoch 122/200\n",
            "6/6 [==============================] - 0s 2ms/step - loss: 0.8196\n",
            "Epoch 123/200\n",
            "6/6 [==============================] - 0s 2ms/step - loss: 1.0612\n",
            "Epoch 124/200\n",
            "6/6 [==============================] - 0s 2ms/step - loss: 0.8122\n",
            "Epoch 125/200\n",
            "6/6 [==============================] - 0s 2ms/step - loss: 1.0240\n",
            "Epoch 126/200\n",
            "6/6 [==============================] - 0s 2ms/step - loss: 0.8004\n",
            "Epoch 127/200\n",
            "6/6 [==============================] - 0s 2ms/step - loss: 1.0983\n",
            "Epoch 128/200\n",
            "6/6 [==============================] - 0s 2ms/step - loss: 0.7229\n",
            "Epoch 129/200\n",
            "6/6 [==============================] - 0s 2ms/step - loss: 0.7998\n",
            "Epoch 130/200\n",
            "6/6 [==============================] - 0s 2ms/step - loss: 0.6804\n",
            "Epoch 131/200\n",
            "6/6 [==============================] - 0s 2ms/step - loss: 0.9417\n",
            "Epoch 132/200\n",
            "6/6 [==============================] - 0s 2ms/step - loss: 1.0267\n",
            "Epoch 133/200\n",
            "6/6 [==============================] - 0s 2ms/step - loss: 0.9165\n",
            "Epoch 134/200\n",
            "6/6 [==============================] - 0s 2ms/step - loss: 0.9269\n",
            "Epoch 135/200\n",
            "6/6 [==============================] - 0s 2ms/step - loss: 0.8336\n",
            "Epoch 136/200\n",
            "6/6 [==============================] - 0s 2ms/step - loss: 0.7811\n",
            "Epoch 137/200\n",
            "6/6 [==============================] - 0s 2ms/step - loss: 0.9590\n",
            "Epoch 138/200\n",
            "6/6 [==============================] - 0s 2ms/step - loss: 0.7989\n",
            "Epoch 139/200\n",
            "6/6 [==============================] - 0s 2ms/step - loss: 0.7475\n",
            "Epoch 140/200\n",
            "6/6 [==============================] - 0s 1ms/step - loss: 0.8016\n",
            "Epoch 141/200\n",
            "6/6 [==============================] - 0s 2ms/step - loss: 0.8718\n",
            "Epoch 142/200\n",
            "6/6 [==============================] - 0s 2ms/step - loss: 0.7343\n",
            "Epoch 143/200\n",
            "6/6 [==============================] - 0s 2ms/step - loss: 0.6532\n",
            "Epoch 144/200\n",
            "6/6 [==============================] - 0s 2ms/step - loss: 0.8882\n",
            "Epoch 145/200\n",
            "6/6 [==============================] - 0s 2ms/step - loss: 0.9990\n",
            "Epoch 146/200\n",
            "6/6 [==============================] - 0s 1ms/step - loss: 0.8498\n",
            "Epoch 147/200\n",
            "6/6 [==============================] - 0s 1ms/step - loss: 0.9146\n",
            "Epoch 148/200\n",
            "6/6 [==============================] - 0s 2ms/step - loss: 0.7065\n",
            "Epoch 149/200\n",
            "6/6 [==============================] - 0s 2ms/step - loss: 0.7637\n",
            "Epoch 150/200\n",
            "6/6 [==============================] - 0s 2ms/step - loss: 0.8470\n",
            "Epoch 151/200\n",
            "6/6 [==============================] - 0s 2ms/step - loss: 1.0758\n",
            "Epoch 152/200\n",
            "6/6 [==============================] - 0s 2ms/step - loss: 0.9457\n",
            "Epoch 153/200\n",
            "6/6 [==============================] - 0s 2ms/step - loss: 0.6992\n",
            "Epoch 154/200\n",
            "6/6 [==============================] - 0s 2ms/step - loss: 0.9037\n",
            "Epoch 155/200\n",
            "6/6 [==============================] - 0s 2ms/step - loss: 0.8900\n",
            "Epoch 156/200\n",
            "6/6 [==============================] - 0s 2ms/step - loss: 0.7372\n",
            "Epoch 157/200\n",
            "6/6 [==============================] - 0s 2ms/step - loss: 0.9495\n",
            "Epoch 158/200\n",
            "6/6 [==============================] - 0s 2ms/step - loss: 0.8560\n",
            "Epoch 159/200\n",
            "6/6 [==============================] - 0s 2ms/step - loss: 0.7516\n",
            "Epoch 160/200\n",
            "6/6 [==============================] - 0s 2ms/step - loss: 0.8289\n",
            "Epoch 161/200\n",
            "6/6 [==============================] - 0s 2ms/step - loss: 0.8686\n",
            "Epoch 162/200\n",
            "6/6 [==============================] - 0s 2ms/step - loss: 0.8004\n",
            "Epoch 163/200\n",
            "6/6 [==============================] - 0s 2ms/step - loss: 1.0262\n",
            "Epoch 164/200\n",
            "6/6 [==============================] - 0s 2ms/step - loss: 0.8796\n",
            "Epoch 165/200\n",
            "6/6 [==============================] - 0s 2ms/step - loss: 0.9761\n",
            "Epoch 166/200\n",
            "6/6 [==============================] - 0s 2ms/step - loss: 0.7210\n",
            "Epoch 167/200\n",
            "6/6 [==============================] - 0s 2ms/step - loss: 0.7599\n",
            "Epoch 168/200\n",
            "6/6 [==============================] - 0s 2ms/step - loss: 0.7948\n",
            "Epoch 169/200\n",
            "6/6 [==============================] - 0s 2ms/step - loss: 1.1054\n",
            "Epoch 170/200\n",
            "6/6 [==============================] - 0s 2ms/step - loss: 1.0944\n",
            "Epoch 171/200\n",
            "6/6 [==============================] - 0s 1ms/step - loss: 0.9753\n",
            "Epoch 172/200\n",
            "6/6 [==============================] - 0s 2ms/step - loss: 0.8871\n",
            "Epoch 173/200\n",
            "6/6 [==============================] - 0s 2ms/step - loss: 0.8779\n",
            "Epoch 174/200\n",
            "6/6 [==============================] - 0s 2ms/step - loss: 0.9268\n",
            "Epoch 175/200\n",
            "6/6 [==============================] - 0s 2ms/step - loss: 0.7956\n",
            "Epoch 176/200\n",
            "6/6 [==============================] - 0s 2ms/step - loss: 0.9420\n",
            "Epoch 177/200\n",
            "6/6 [==============================] - 0s 2ms/step - loss: 0.9174\n",
            "Epoch 178/200\n",
            "6/6 [==============================] - 0s 2ms/step - loss: 0.7691\n",
            "Epoch 179/200\n",
            "6/6 [==============================] - 0s 2ms/step - loss: 0.7622\n",
            "Epoch 180/200\n",
            "6/6 [==============================] - 0s 2ms/step - loss: 1.0103\n",
            "Epoch 181/200\n",
            "6/6 [==============================] - 0s 2ms/step - loss: 0.8149\n",
            "Epoch 182/200\n",
            "6/6 [==============================] - 0s 2ms/step - loss: 1.0901\n",
            "Epoch 183/200\n",
            "6/6 [==============================] - 0s 2ms/step - loss: 0.6947\n",
            "Epoch 184/200\n",
            "6/6 [==============================] - 0s 2ms/step - loss: 0.8291\n",
            "Epoch 185/200\n",
            "6/6 [==============================] - 0s 2ms/step - loss: 0.8614\n",
            "Epoch 186/200\n",
            "6/6 [==============================] - 0s 2ms/step - loss: 0.6635\n",
            "Epoch 187/200\n",
            "6/6 [==============================] - 0s 4ms/step - loss: 1.0503\n",
            "Epoch 188/200\n",
            "6/6 [==============================] - 0s 2ms/step - loss: 0.8521\n",
            "Epoch 189/200\n",
            "6/6 [==============================] - 0s 2ms/step - loss: 0.7494\n",
            "Epoch 190/200\n",
            "6/6 [==============================] - 0s 2ms/step - loss: 0.7975\n",
            "Epoch 191/200\n",
            "6/6 [==============================] - 0s 2ms/step - loss: 0.9842\n",
            "Epoch 192/200\n",
            "6/6 [==============================] - 0s 2ms/step - loss: 1.0953\n",
            "Epoch 193/200\n",
            "6/6 [==============================] - 0s 2ms/step - loss: 0.8390\n",
            "Epoch 194/200\n",
            "6/6 [==============================] - 0s 2ms/step - loss: 0.9018\n",
            "Epoch 195/200\n",
            "6/6 [==============================] - 0s 2ms/step - loss: 1.0107\n",
            "Epoch 196/200\n",
            "6/6 [==============================] - 0s 2ms/step - loss: 1.0594\n",
            "Epoch 197/200\n",
            "6/6 [==============================] - 0s 2ms/step - loss: 1.0075\n",
            "Epoch 198/200\n",
            "6/6 [==============================] - 0s 2ms/step - loss: 0.9302\n",
            "Epoch 199/200\n",
            "6/6 [==============================] - 0s 2ms/step - loss: 1.0402\n",
            "Epoch 200/200\n",
            "6/6 [==============================] - 0s 1ms/step - loss: 0.9168\n"
          ],
          "name": "stdout"
        }
      ]
    },
    {
      "cell_type": "code",
      "metadata": {
        "colab": {
          "base_uri": "https://localhost:8080/",
          "height": 282
        },
        "id": "DpWeDjpROO5z",
        "outputId": "b971aa62-9978-4e41-bcf1-583812fa652a"
      },
      "source": [
        "# Plot the loss\r\n",
        "plt.plot(r.history['loss'],label='loss')\r\n"
      ],
      "execution_count": 47,
      "outputs": [
        {
          "output_type": "execute_result",
          "data": {
            "text/plain": [
              "[<matplotlib.lines.Line2D at 0x7f1148efa470>]"
            ]
          },
          "metadata": {
            "tags": []
          },
          "execution_count": 47
        },
        {
          "output_type": "display_data",
          "data": {
            "image/png": "[encoded data removed]",
            "text/plain": [
              "<Figure size 432x288 with 1 Axes>"
            ]
          },
          "metadata": {
            "tags": [],
            "needs_background": "light"
          }
        }
      ]
    },
    {
      "cell_type": "code",
      "metadata": {
        "colab": {
          "base_uri": "https://localhost:8080/"
        },
        "id": "GXKsPSU2Oa8i",
        "outputId": "ee98a4bc-acfa-4d84-bba3-69bbbb4b17a9"
      },
      "source": [
        "#Get the slope of the line\r\n",
        "#The slope of the line is related to the doubling rate of transistor count\r\n",
        "print(model.layers)\r\n",
        "print(model.layers[0].get_weights())"
      ],
      "execution_count": 49,
      "outputs": [
        {
          "output_type": "stream",
          "text": [
            "[<tensorflow.python.keras.layers.core.Dense object at 0x7f11883f1b70>]\n",
            "[array([[0.34477717]], dtype=float32), array([17.769077], dtype=float32)]\n"
          ],
          "name": "stdout"
        }
      ]
    },
    {
      "cell_type": "code",
      "metadata": {
        "id": "DILi1_AkO-gC"
      },
      "source": [
        "# The slope of the line is:\r\n",
        "a = model.layers[0].get_weights()[0][0,0]"
      ],
      "execution_count": 50,
      "outputs": []
    },
    {
      "cell_type": "markdown",
      "metadata": {
        "id": "axqsD-I5PIVb"
      },
      "source": [
        "## C = A<sub>0</sub>r<sup>t</sup> = Exponential\r\n",
        "\r\n",
        "Where <b>C</b> is transistor the count and <b>t</b> is the year.\r\n",
        "\r\n",
        "**r** is the rate of growth.\r\n",
        "<br>\r\n",
        "Example: \r\n",
        "<br> when **t** goes from 1 to 2, **C** increases by a factor of **r**.\r\n",
        "<br> when **t** goes from 2 to 3, **C** increases by a factor of r again.\r\n",
        "<br>When we take log of the both sides, we get\r\n",
        "\r\n",
        "\r\n",
        "## log(C) = log(r) * t + log (A<sub>0</sub>) -----> eq(1)\r\n",
        "\r\n",
        "where,\r\n",
        " ##  y = ax + b   ------> eq(2) \r\n",
        "   \r\n",
        " ### Equate both 1 and 2 Equation :\r\n",
        "  #### y = log(C)\r\n",
        "  #### a = log(r)\r\n",
        "  #### x = t\r\n",
        "  #### b = log(A<sub>0</sub>)\r\n",
        "  We are interested in **r**, because that's the rate of growth. Given out regression weights, we know that:\r\n",
        "<br>\r\n",
        "  **a = 0.34188038**\r\n",
        "<br>**r = e<sup>0.34188038</sup> = 1.4076**\r\n",
        "<br>To find the time it takes for transistor count to double, we simply need to find the amount of time it takes for C to increase to 2C.\r\n",
        "<br>Let's call the original starting time **t**, to correspond with the initial transistor count C.\r\n",
        "<br>Let's call the end time t', to correspond with the final transistor count **2C**.\r\n",
        "<br>\r\n",
        "<br>The we also have:\r\n",
        "### 2C = A<sub>0</sub>r<sup>t</sup>\r\n",
        "<br> We get (by dividing the 2 equation):\r\n",
        "### 2C/C = (A<sub>0</sub>r<sup>t</sup>)/A<sub>0</sub>r<sup>t</sup>\r\n",
        "<br> Simply:\r\n",
        "### 2 = r<sup>(t'-t)</sup>\r\n",
        "<br> solve for t'-t:\r\n",
        " ## t'-t = log(2)/log(r)  \r\n",
        " ## t'-t = log(2)/a"
      ]
    },
    {
      "cell_type": "code",
      "metadata": {
        "colab": {
          "base_uri": "https://localhost:8080/"
        },
        "id": "srjhHgL7VUvi",
        "outputId": "66baa93f-5bc2-411d-ea72-a1720ccb0f2d"
      },
      "source": [
        "# moore law\r\n",
        "print(\"Time to double :\", np.log(2) / a)"
      ],
      "execution_count": 53,
      "outputs": [
        {
          "output_type": "stream",
          "text": [
            "Time to double : 2.0286295205239204\n"
          ],
          "name": "stdout"
        }
      ]
    },
    {
      "cell_type": "code",
      "metadata": {
        "colab": {
          "base_uri": "https://localhost:8080/"
        },
        "id": "MJQGupZaVhCq",
        "outputId": "c8f308d6-f39a-469c-d4c9-b976f080710e"
      },
      "source": [
        "# If you know the analytical solution\r\n",
        "\r\n",
        "X = np.array(X).flatten()\r\n",
        "Y = np.array(Y)\r\n",
        "denominator = X.dot(X) - X.mean() * X.sum()\r\n",
        "a = (X.dot(Y) - Y.mean()*X.sum() ) / denominator\r\n",
        "b = (Y.mean() * X.dot(X) - X.mean() * X.dot(Y) ) /denominator \r\n",
        "print(a, b)\r\n",
        "print(\"Time to double\",np.log(2)/a)"
      ],
      "execution_count": 54,
      "outputs": [
        {
          "output_type": "stream",
          "text": [
            "0.341682487387313 17.764939393631764\n",
            "Time to double 2.0286295205239204\n"
          ],
          "name": "stdout"
        }
      ]
    },
    {
      "cell_type": "markdown",
      "metadata": {
        "id": "Bo2nQmj_g1LJ"
      },
      "source": [
        "# Part 2: Making Predictions\r\n"
      ]
    },
    {
      "cell_type": "code",
      "metadata": {
        "colab": {
          "base_uri": "https://localhost:8080/",
          "height": 282
        },
        "id": "S0O7bmnUgzPa",
        "outputId": "87f4b9f4-c4bb-43ef-9664-d1674e9404a1"
      },
      "source": [
        "# Make sure the line fits our data\r\n",
        "Yhat = model.predict(X).flatten()\r\n",
        "plt.scatter(X,Y)\r\n",
        "plt.plot(X,Yhat)"
      ],
      "execution_count": 55,
      "outputs": [
        {
          "output_type": "execute_result",
          "data": {
            "text/plain": [
              "[<matplotlib.lines.Line2D at 0x7f1148dee860>]"
            ]
          },
          "metadata": {
            "tags": []
          },
          "execution_count": 55
        },
        {
          "output_type": "display_data",
          "data": {
            "image/png": "[encoded data removed]",
            "text/plain": [
              "<Figure size 432x288 with 1 Axes>"
            ]
          },
          "metadata": {
            "tags": [],
            "needs_background": "light"
          }
        }
      ]
    },
    {
      "cell_type": "code",
      "metadata": {
        "colab": {
          "base_uri": "https://localhost:8080/"
        },
        "id": "oMvdeDDxhJA5",
        "outputId": "749bf86e-e0de-448c-ccaf-8fb6bd999b71"
      },
      "source": [
        "#Manual calculation\r\n",
        "\r\n",
        "# Get the weights\r\n",
        "w, b = model.layers[0].get_weights()\r\n",
        "\r\n",
        "# Reshape X because we flattened it again earlier\r\n",
        "X = X.reshape(-1,1)\r\n",
        "\r\n",
        "# (N x 1) x (1 x 1) + (1) --> (Nx1)\r\n",
        "Yhat2 = (X.dot(w) + b).flatten()\r\n",
        "\r\n",
        "# Don't use == for floating points\r\n",
        "np.allclose(Yhat,Yhat2)"
      ],
      "execution_count": 56,
      "outputs": [
        {
          "output_type": "execute_result",
          "data": {
            "text/plain": [
              "True"
            ]
          },
          "metadata": {
            "tags": []
          },
          "execution_count": 56
        }
      ]
    }
  ]
}